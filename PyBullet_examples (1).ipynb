{
 "cells": [
  {
   "cell_type": "markdown",
   "id": "b4fc44d0-5cca-4ef4-b628-ab9718179af9",
   "metadata": {},
   "source": [
    "# Physics and Simulation (PyBullet Examples)\n",
    "## COMP 462/562 - Foundamentals of Robotic Manipulation"
   ]
  },
  {
   "cell_type": "code",
   "execution_count": 1,
   "id": "9bb44cde-2630-4216-85fc-a65517ee0ee8",
   "metadata": {},
   "outputs": [],
   "source": [
    "import pybullet as p\n",
    "import pybullet_data as pd\n",
    "import pybullet_utils.bullet_client as bc"
   ]
  },
  {
   "cell_type": "markdown",
   "id": "3262b65a-76a9-4bd4-9929-85439f8cd4fe",
   "metadata": {},
   "source": [
    "### Connecting to the Physics Server"
   ]
  },
  {
   "cell_type": "markdown",
   "id": "7e8912a0-71ec-4007-bd03-b6d588293b28",
   "metadata": {},
   "source": [
    "After importing the PyBullet module, the first thing to do is 'connecting' to the physics simulation. PyBullet is designed around a client-server driven API, with a client sending commands and a physics server returning the status."
   ]
  },
  {
   "cell_type": "markdown",
   "id": "9fd629a7-5354-4cbf-a2e8-00e8498b123e",
   "metadata": {},
   "source": [
    "There are two modes of connections: **DIRECT** and **GUI** </br>\n",
    "The **DIRECT** connection sends the commands directly to the physics engine, without using any transport layer and no graphics visualization window.</br>\n",
    "The **GUI** connection will create a new graphical user interface (GUI) with 3D OpenGL rendering."
   ]
  },
  {
   "cell_type": "markdown",
   "id": "467b4f26-3926-4f61-93c3-07080e7ec5e7",
   "metadata": {},
   "source": [
    "If you want to use multiple independent simulations in parallel, you can use pybullet_utils.bullet_client. An instance of **BulletClient** has the same API as a pybullet instance."
   ]
  },
  {
   "cell_type": "code",
   "execution_count": 2,
   "id": "a2a4c143-32e3-4923-97d5-5335c7ee57b9",
   "metadata": {},
   "outputs": [],
   "source": [
    "bullet_client = bc.BulletClient(connection_mode=p.GUI)\n",
    "bullet_client.setAdditionalSearchPath(pd.getDataPath())\n",
    "bullet_client.setTimeStep(1./60.)"
   ]
  },
  {
   "cell_type": "code",
   "execution_count": 3,
   "id": "1de4d33d-c6cb-4ce1-9bd4-50c9455dbda5",
   "metadata": {},
   "outputs": [],
   "source": [
    "bullet_client.disconnect()"
   ]
  },
  {
   "cell_type": "markdown",
   "id": "d00e453f-5cd2-4dcf-b057-dd508122beb9",
   "metadata": {},
   "source": [
    "## Cube Example"
   ]
  },
  {
   "cell_type": "code",
   "execution_count": 4,
   "id": "aee2215d-11af-4fbf-8b91-141fdf4f62b5",
   "metadata": {},
   "outputs": [],
   "source": [
    "bullet_client = bc.BulletClient(connection_mode=p.GUI)\n",
    "bullet_client.setAdditionalSearchPath(pd.getDataPath())\n",
    "bullet_client.setTimeStep(1./60.)"
   ]
  },
  {
   "cell_type": "markdown",
   "id": "0fed40c9-bdb9-4460-96bc-ede92efb5c2c",
   "metadata": {},
   "source": [
    "### Load / Create a (Multi) Body"
   ]
  },
  {
   "cell_type": "markdown",
   "id": "af587a03-2697-40dd-8f6d-7b76ccb20530",
   "metadata": {},
   "source": [
    "The loadURDF will send a command to the physics server to load a physics model from a Universal Robot Description File (URDF)."
   ]
  },
  {
   "cell_type": "code",
   "execution_count": 5,
   "id": "5552dceb-f245-4be5-8ee2-efaed1eaf030",
   "metadata": {},
   "outputs": [
    {
     "name": "stdout",
     "output_type": "stream",
     "text": [
      "The body ID for the plane: 0\n"
     ]
    }
   ],
   "source": [
    "planeID = bullet_client.loadURDF(\"plane.urdf\")\n",
    "print(\"The body ID for the plane:\", planeID)"
   ]
  },
  {
   "cell_type": "code",
   "execution_count": 6,
   "id": "1c2b69f4-cb08-4513-ad84-e3d544aa1869",
   "metadata": {},
   "outputs": [],
   "source": [
    "bullet_client.removeBody(planeID)"
   ]
  },
  {
   "cell_type": "markdown",
   "id": "fe7bc034-3f8b-4401-a654-7bd3ec19af5d",
   "metadata": {},
   "source": [
    "Although the recommended and easiest way to create stuff in the world is using the loading functions (loadURDF/SDF/MJCF/Bullet), you can also create collision and visual shapes programmatically and use them to create a body using createMultiBody."
   ]
  },
  {
   "cell_type": "code",
   "execution_count": 7,
   "id": "86ed87b4-ead2-4e14-bdec-290450f728b0",
   "metadata": {},
   "outputs": [
    {
     "name": "stdout",
     "output_type": "stream",
     "text": [
      "The body ID for the red box: 0\n"
     ]
    }
   ],
   "source": [
    "colBoxID = bullet_client.createCollisionShape(p.GEOM_BOX, halfExtents=[0.1, 0.1, 0.1])\n",
    "redvisBoxID = bullet_client.createVisualShape(p.GEOM_BOX, halfExtents=[0.1, 0.1, 0.1], rgbaColor=[1, 0, 0, 0.5])\n",
    "\n",
    "redboxID = bullet_client.createMultiBody(baseMass=0.1, \n",
    "                                         baseCollisionShapeIndex=colBoxID,\n",
    "                                         baseVisualShapeIndex=redvisBoxID,\n",
    "                                         basePosition=[0, 0, 1], \n",
    "                                         baseOrientation=[0, 0, 0, 1]) # quaternion\n",
    "\n",
    "print(\"The body ID for the red box:\", redboxID)"
   ]
  },
  {
   "cell_type": "markdown",
   "id": "4d6ee271-58e3-4f5b-ba4b-91b9e1860a9e",
   "metadata": {},
   "source": [
    "### Real-Time Simulation"
   ]
  },
  {
   "cell_type": "markdown",
   "id": "9fb8ded0-9b83-436b-a4f7-782236964d73",
   "metadata": {},
   "source": [
    "By default, the physics server will not step the simulation, unless you explicitly send a 'stepSimulation' command. </br>\n",
    "This way you can maintain control determinism of the simulation."
   ]
  },
  {
   "cell_type": "code",
   "execution_count": 8,
   "id": "cb09664b-89cb-413d-bbc9-6d5e23b22eb2",
   "metadata": {},
   "outputs": [
    {
     "ename": "KeyboardInterrupt",
     "evalue": "",
     "output_type": "error",
     "traceback": [
      "\u001b[1;31m---------------------------------------------------------------------------\u001b[0m",
      "\u001b[1;31mKeyboardInterrupt\u001b[0m                         Traceback (most recent call last)",
      "Cell \u001b[1;32mIn[8], line 2\u001b[0m\n\u001b[0;32m      1\u001b[0m \u001b[38;5;28;01mwhile\u001b[39;00m \u001b[38;5;28;01mTrue\u001b[39;00m:\n\u001b[1;32m----> 2\u001b[0m     \u001b[43mbullet_client\u001b[49m\u001b[38;5;241;43m.\u001b[39;49m\u001b[43mstepSimulation\u001b[49m()\n",
      "\u001b[1;31mKeyboardInterrupt\u001b[0m: "
     ]
    }
   ],
   "source": [
    "while True:\n",
    "    bullet_client.stepSimulation()"
   ]
  },
  {
   "cell_type": "markdown",
   "id": "13331d99-4af9-4ba3-9c45-511a4b6e19ed",
   "metadata": {},
   "source": [
    "Alternatively, it is also possible to run the simulation in real-time by letting the physics server automatically step the simulation according to its real-time-clock (RTC) using the setRealTimeSimulation command."
   ]
  },
  {
   "cell_type": "code",
   "execution_count": 9,
   "id": "9b4d3be4-ed16-4485-a619-d9a5713be049",
   "metadata": {},
   "outputs": [],
   "source": [
    "bullet_client.setRealTimeSimulation(True)"
   ]
  },
  {
   "cell_type": "markdown",
   "id": "d3957e4b-0e7a-4117-949d-7601e4b0f65a",
   "metadata": {},
   "source": [
    "### Gravity"
   ]
  },
  {
   "cell_type": "markdown",
   "id": "a4307181-b049-4d29-ac39-2b3c49245098",
   "metadata": {},
   "source": [
    "By default, there is no gravitational force enabled. setGravity lets you set the default gravity force for all objects."
   ]
  },
  {
   "cell_type": "code",
   "execution_count": 10,
   "id": "f66a105c-a4df-461f-b020-165755ef2233",
   "metadata": {},
   "outputs": [],
   "source": [
    "bullet_client.setGravity(0, 0, -9.8)"
   ]
  },
  {
   "cell_type": "markdown",
   "id": "d5ff2d94-3adb-4156-84bf-d69380402c4f",
   "metadata": {},
   "source": [
    "You can create a static body by a zero baseMass."
   ]
  },
  {
   "cell_type": "code",
   "execution_count": 11,
   "id": "30c6cd56-895e-46b8-a359-24dddeb5bd44",
   "metadata": {},
   "outputs": [
    {
     "name": "stdout",
     "output_type": "stream",
     "text": [
      "The body ID for the green box: 1\n"
     ]
    }
   ],
   "source": [
    "greenvisBoxID = bullet_client.createVisualShape(p.GEOM_BOX, halfExtents=[0.1, 0.1, 0.1], rgbaColor=[0, 1, 0, 0.5])\n",
    "\n",
    "greenboxID = bullet_client.createMultiBody(baseMass=0, \n",
    "                                           baseCollisionShapeIndex=colBoxID,\n",
    "                                           baseVisualShapeIndex=greenvisBoxID,\n",
    "                                           basePosition=[0, 0, 1], \n",
    "                                           baseOrientation=[0, 0, 0, 1])\n",
    "\n",
    "print(\"The body ID for the green box:\", greenboxID)"
   ]
  },
  {
   "cell_type": "markdown",
   "id": "8c7cee1d-9c32-4a1c-a6e4-5560a8a342c1",
   "metadata": {},
   "source": [
    "### Body Pose and Velocity"
   ]
  },
  {
   "cell_type": "code",
   "execution_count": 12,
   "id": "eacbe99d-36b8-453a-a50d-695a6463a5e2",
   "metadata": {},
   "outputs": [
    {
     "name": "stdout",
     "output_type": "stream",
     "text": [
      "Position of the red box: (0.0, 0.0, -55.48664697706147)\n",
      "Orientation of the red box: (0.0, 0.0, 0.0, 1.0)\n"
     ]
    }
   ],
   "source": [
    "pos, orn = bullet_client.getBasePositionAndOrientation(redboxID)\n",
    "\n",
    "print(\"Position of the red box:\", pos)\n",
    "print(\"Orientation of the red box:\", orn)"
   ]
  },
  {
   "cell_type": "code",
   "execution_count": 13,
   "id": "565ff6a8-351c-4e81-b143-2c5e7232abf5",
   "metadata": {},
   "outputs": [
    {
     "name": "stdout",
     "output_type": "stream",
     "text": [
      "Linear velocity of the red box: (0.0, 0.0, -15.156500549618151)\n",
      "Angular velocity of the red box: (0.0, 0.0, 0.0)\n"
     ]
    }
   ],
   "source": [
    "lin_vel, ang_vel = bullet_client.getBaseVelocity(redboxID)\n",
    "\n",
    "print(\"Linear velocity of the red box:\", lin_vel)\n",
    "print(\"Angular velocity of the red box:\", ang_vel)"
   ]
  },
  {
   "cell_type": "code",
   "execution_count": 14,
   "id": "45b69f79-302b-405d-96f4-b4d5f7efb854",
   "metadata": {},
   "outputs": [],
   "source": [
    "bullet_client.resetBasePositionAndOrientation(redboxID, \n",
    "                                              posObj=[0, 0, 0.5], \n",
    "                                              ornObj=[0, 0, 0, 1])"
   ]
  },
  {
   "cell_type": "markdown",
   "id": "f2e1ace4-9f3e-4094-aa5b-934e4d0d4b13",
   "metadata": {},
   "source": [
    "### Save / Restore State"
   ]
  },
  {
   "cell_type": "markdown",
   "id": "db2dc0e4-c6c5-4e8d-87d3-3282ce1e7f15",
   "metadata": {},
   "source": [
    "When you need deterministic simulation after restoring to a previously saved state, all important state information, including contact points, need to be stored."
   ]
  },
  {
   "cell_type": "code",
   "execution_count": 15,
   "id": "3d354dec-7b9e-4a97-a335-311e567a281c",
   "metadata": {},
   "outputs": [
    {
     "name": "stdout",
     "output_type": "stream",
     "text": [
      "The state ID of the saved state: 0\n",
      "red box pose: ((0.0, 0.0, -19.72181958221615), (0.0, 0.0, 0.0, 1.0))\n",
      "red box velocity: ((0.0, 0.0, -13.682200618722653), (0.0, 0.0, 0.0))\n"
     ]
    }
   ],
   "source": [
    "stateID = bullet_client.saveState()\n",
    "\n",
    "print(\"The state ID of the saved state:\", stateID)\n",
    "print(\"red box pose:\", bullet_client.getBasePositionAndOrientation(redboxID))\n",
    "print(\"red box velocity:\", bullet_client.getBaseVelocity(redboxID))"
   ]
  },
  {
   "cell_type": "code",
   "execution_count": 16,
   "id": "a85cc656-8a46-4ffb-9612-2df294b156a1",
   "metadata": {},
   "outputs": [
    {
     "name": "stdout",
     "output_type": "stream",
     "text": [
      "red box pose: ((0.0, 0.0, -19.72181958221615), (0.0, 0.0, 0.0, 1.0))\n",
      "red box velocity: ((0.0, 0.0, -13.682200618722653), (0.0, 0.0, 0.0))\n"
     ]
    }
   ],
   "source": [
    "bullet_client.restoreState(stateID)\n",
    "\n",
    "print(\"red box pose:\", bullet_client.getBasePositionAndOrientation(redboxID))\n",
    "print(\"red box velocity:\", bullet_client.getBaseVelocity(redboxID))"
   ]
  },
  {
   "cell_type": "markdown",
   "id": "e9e969c8-fc02-49e8-b13e-ea8b4b560e3c",
   "metadata": {},
   "source": [
    "### Control"
   ]
  },
  {
   "cell_type": "markdown",
   "id": "c1a59157-0475-4d3b-8968-6748274eb5b3",
   "metadata": {},
   "source": [
    "We wil create a blue box which has one joint. The joint connects its virtual base (invisible) and one link (i.e., the blue box)."
   ]
  },
  {
   "cell_type": "code",
   "execution_count": 17,
   "id": "1955a4c1-56b2-4e50-9f7d-c3eaea462b5f",
   "metadata": {},
   "outputs": [],
   "source": [
    "bluevisBoxID = bullet_client.createVisualShape(p.GEOM_BOX, halfExtents=[0.1, 0.1, 0.1], rgbaColor=[0, 0, 1, 0.5])\n",
    "\n",
    "blueboxID = bullet_client.createMultiBody(baseMass=0,\n",
    "                                          baseCollisionShapeIndex=-1,\n",
    "                                          baseVisualShapeIndex=-1,\n",
    "                                          basePosition=[0, 0, 0], \n",
    "                                          baseOrientation=[0, 0, 0, 1],\n",
    "                                    linkMasses=[0.2],\n",
    "                                    linkCollisionShapeIndices=[colBoxID],\n",
    "                                    linkVisualShapeIndices=[bluevisBoxID],\n",
    "                                    linkPositions=[[0, 0, 0.5]],\n",
    "                                    linkOrientations=[[0, 0, 0, 1]],\n",
    "                                    linkInertialFramePositions=[[0, 0, 0]],\n",
    "                                    linkInertialFrameOrientations=[[0, 0, 0, 1]],\n",
    "                                    linkParentIndices=[0],\n",
    "                                    #linkJointTypes=[p.JOINT_PRISMATIC],\n",
    "                                    linkJointTypes=[p.JOINT_REVOLUTE],\n",
    "                                    linkJointAxis=[[1, 0, 0]]\n",
    "                                    )"
   ]
  },
  {
   "cell_type": "code",
   "execution_count": 18,
   "id": "c57c2974-8732-44e8-8d63-3acac7a65426",
   "metadata": {},
   "outputs": [],
   "source": [
    "bullet_client.removeBody(blueboxID)"
   ]
  },
  {
   "cell_type": "code",
   "execution_count": 19,
   "id": "15249aaa-9772-4295-9e7e-bc1dd119c2e0",
   "metadata": {},
   "outputs": [
    {
     "name": "stdout",
     "output_type": "stream",
     "text": [
      "Number of joints of the blue box: 0\n",
      "Number of joints of the red box: 0\n"
     ]
    }
   ],
   "source": [
    "print(\"Number of joints of the blue box:\", \n",
    "      bullet_client.getNumJoints(blueboxID))\n",
    "\n",
    "print(\"Number of joints of the red box:\", \n",
    "      bullet_client.getNumJoints(redboxID))"
   ]
  },
  {
   "cell_type": "code",
   "execution_count": 24,
   "id": "ba86f2de-37a1-48b9-af28-aa5c4669a48a",
   "metadata": {},
   "outputs": [
    {
     "ename": "error",
     "evalue": "GetJointInfo failed.",
     "output_type": "error",
     "traceback": [
      "\u001b[1;31m---------------------------------------------------------------------------\u001b[0m",
      "\u001b[1;31merror\u001b[0m                                     Traceback (most recent call last)",
      "Cell \u001b[1;32mIn[24], line 1\u001b[0m\n\u001b[1;32m----> 1\u001b[0m jnt_info \u001b[38;5;241m=\u001b[39m \u001b[43mbullet_client\u001b[49m\u001b[38;5;241;43m.\u001b[39;49m\u001b[43mgetJointInfo\u001b[49m\u001b[43m(\u001b[49m\u001b[43mbodyUniqueId\u001b[49m\u001b[38;5;241;43m=\u001b[39;49m\u001b[43mblueboxID\u001b[49m\u001b[43m,\u001b[49m\n\u001b[0;32m      2\u001b[0m \u001b[43m                                      \u001b[49m\u001b[43mjointIndex\u001b[49m\u001b[38;5;241;43m=\u001b[39;49m\u001b[38;5;241;43m0\u001b[39;49m\u001b[43m)\u001b[49m\n\u001b[0;32m      3\u001b[0m \u001b[38;5;28mprint\u001b[39m(jnt_info)\n",
      "\u001b[1;31merror\u001b[0m: GetJointInfo failed."
     ]
    }
   ],
   "source": [
    "jnt_info = bullet_client.getJointInfo(bodyUniqueId=blueboxID,\n",
    "                                      jointIndex=0)\n",
    "print(jnt_info)"
   ]
  },
  {
   "cell_type": "markdown",
   "id": "f2c67479-327e-4bdc-98e5-93aee56aa9de",
   "metadata": {},
   "source": [
    "We can control a robot by setting a desired control mode for one or more joint motors. During the stepSimulation the physics engine will simulate the motors to reach the given target value that can be reached within the maximum motor forces"
   ]
  },
  {
   "cell_type": "code",
   "execution_count": 21,
   "id": "6baf7497-5a09-4cfe-a3c0-1e6ac3de2027",
   "metadata": {},
   "outputs": [],
   "source": [
    "bullet_client.setJointMotorControl2(bodyUniqueId=blueboxID,\n",
    "                                    jointIndex=0,\n",
    "                                    controlMode=p.POSITION_CONTROL,\n",
    "                                    targetPosition=1.5)"
   ]
  },
  {
   "cell_type": "code",
   "execution_count": 22,
   "id": "0be2298f-7261-49eb-b21b-f8a8e770336d",
   "metadata": {},
   "outputs": [],
   "source": [
    "bullet_client.setJointMotorControl2(bodyUniqueId=blueboxID,\n",
    "                                    jointIndex=0,\n",
    "                                    controlMode=p.VELOCITY_CONTROL,\n",
    "                                    targetVelocity=-1.5)"
   ]
  },
  {
   "cell_type": "code",
   "execution_count": 23,
   "id": "4d32a4a5-0a55-41d9-8f61-bac62ef90cda",
   "metadata": {},
   "outputs": [
    {
     "name": "stdout",
     "output_type": "stream",
     "text": [
      "jointPosition: -3.3250000070506225\n",
      "jointVelocity: -1.5\n",
      "jointReactionForces: (0.0, 0.0, 0.0, 0.0, 0.0, 0.0)\n",
      "appliedJointMotorTorque: -0.00019999999552965168\n"
     ]
    }
   ],
   "source": [
    "jnt_state = bullet_client.getJointState(bodyUniqueId=blueboxID, \n",
    "                                        jointIndex=0)\n",
    "\n",
    "print(\"jointPosition:\", jnt_state[0])\n",
    "print(\"jointVelocity:\", jnt_state[1])\n",
    "print(\"jointReactionForces:\", jnt_state[2])\n",
    "print(\"appliedJointMotorTorque:\", jnt_state[3])"
   ]
  },
  {
   "cell_type": "markdown",
   "id": "1f9841b0-28f0-4588-a586-230b801901d2",
   "metadata": {},
   "source": [
    "You can apply a force or torque to a body using **applyExternalForce** and **applyExternalTorque**. Note that this method will only work when explicitly stepping the simulation using stepSimulation. After each simulation step, the external forces are cleared to zero."
   ]
  },
  {
   "cell_type": "code",
   "execution_count": 24,
   "id": "3f67bdf8-181c-4c5e-9caa-11523242863c",
   "metadata": {},
   "outputs": [],
   "source": [
    "bullet_client.setRealTimeSimulation(False)"
   ]
  },
  {
   "cell_type": "markdown",
   "id": "e88b5d78-89e1-462a-9666-aa3a61b1b11c",
   "metadata": {},
   "source": [
    "You can change the properties such as mass, friction and restitution coefficients using changeDynamics."
   ]
  },
  {
   "cell_type": "code",
   "execution_count": 25,
   "id": "1369425d-a90b-49c0-8922-bb1aa5bd8847",
   "metadata": {},
   "outputs": [],
   "source": [
    "bullet_client.changeDynamics(bodyUniqueId=redboxID, \n",
    "                             linkIndex=-1,\n",
    "                             lateralFriction=0.1)\n",
    "                             #lateralFriction=0.5)"
   ]
  },
  {
   "cell_type": "code",
   "execution_count": 30,
   "id": "9e967037-f4d5-49d5-aa25-95d352e73761",
   "metadata": {},
   "outputs": [],
   "source": [
    "bullet_client.resetBasePositionAndOrientation(redboxID, [0, 0, 0.1], [0, 0, 0, 1])"
   ]
  },
  {
   "cell_type": "code",
   "execution_count": 27,
   "id": "9f100eba-7347-471b-ad65-9dae5af75cc5",
   "metadata": {},
   "outputs": [
    {
     "ename": "KeyboardInterrupt",
     "evalue": "",
     "output_type": "error",
     "traceback": [
      "\u001b[0;31m---------------------------------------------------------------------------\u001b[0m",
      "\u001b[0;31mKeyboardInterrupt\u001b[0m                         Traceback (most recent call last)",
      "\u001b[0;32m/tmp/ipykernel_23218/1081839206.py\u001b[0m in \u001b[0;36m<module>\u001b[0;34m\u001b[0m\n\u001b[1;32m     10\u001b[0m                                     )\n\u001b[1;32m     11\u001b[0m     \u001b[0mbullet_client\u001b[0m\u001b[0;34m.\u001b[0m\u001b[0mstepSimulation\u001b[0m\u001b[0;34m(\u001b[0m\u001b[0;34m)\u001b[0m\u001b[0;34m\u001b[0m\u001b[0;34m\u001b[0m\u001b[0m\n\u001b[0;32m---> 12\u001b[0;31m     \u001b[0mtime\u001b[0m\u001b[0;34m.\u001b[0m\u001b[0msleep\u001b[0m\u001b[0;34m(\u001b[0m\u001b[0;36m0.01\u001b[0m\u001b[0;34m)\u001b[0m\u001b[0;34m\u001b[0m\u001b[0;34m\u001b[0m\u001b[0m\n\u001b[0m",
      "\u001b[0;31mKeyboardInterrupt\u001b[0m: "
     ]
    }
   ],
   "source": [
    "import time\n",
    "\n",
    "while True:\n",
    "    bullet_client.applyExternalForce(objectUniqueId=redboxID, \n",
    "                                     linkIndex=-1, \n",
    "                                     forceObj=[0.5, 0, 0],\n",
    "                                     posObj=[0, 0, 0],\n",
    "                                     #flags=p.LINK_FRAME\n",
    "                                     flags=p.WORLD_FRAME\n",
    "                                    )\n",
    "    bullet_client.stepSimulation()\n",
    "    time.sleep(0.01)"
   ]
  },
  {
   "cell_type": "code",
   "execution_count": 29,
   "id": "ca044dad-7f15-4f63-8744-8316cd46e233",
   "metadata": {},
   "outputs": [
    {
     "ename": "KeyboardInterrupt",
     "evalue": "",
     "output_type": "error",
     "traceback": [
      "\u001b[0;31m---------------------------------------------------------------------------\u001b[0m",
      "\u001b[0;31mKeyboardInterrupt\u001b[0m                         Traceback (most recent call last)",
      "\u001b[0;32m/tmp/ipykernel_23218/3114629369.py\u001b[0m in \u001b[0;36m<module>\u001b[0;34m\u001b[0m\n\u001b[1;32m      7\u001b[0m                                     )\n\u001b[1;32m      8\u001b[0m     \u001b[0mbullet_client\u001b[0m\u001b[0;34m.\u001b[0m\u001b[0mstepSimulation\u001b[0m\u001b[0;34m(\u001b[0m\u001b[0;34m)\u001b[0m\u001b[0;34m\u001b[0m\u001b[0;34m\u001b[0m\u001b[0m\n\u001b[0;32m----> 9\u001b[0;31m     \u001b[0mtime\u001b[0m\u001b[0;34m.\u001b[0m\u001b[0msleep\u001b[0m\u001b[0;34m(\u001b[0m\u001b[0;36m0.01\u001b[0m\u001b[0;34m)\u001b[0m\u001b[0;34m\u001b[0m\u001b[0;34m\u001b[0m\u001b[0m\n\u001b[0m",
      "\u001b[0;31mKeyboardInterrupt\u001b[0m: "
     ]
    }
   ],
   "source": [
    "while True:\n",
    "    bullet_client.applyExternalTorque(objectUniqueId=redboxID, \n",
    "                                     linkIndex=-1, \n",
    "                                     torqueObj=[0, 0, 0.1],\n",
    "                                     #flags=p.LINK_FRAME\n",
    "                                     flags=p.WORLD_FRAME\n",
    "                                    )\n",
    "    bullet_client.stepSimulation()\n",
    "    time.sleep(0.01)"
   ]
  },
  {
   "cell_type": "markdown",
   "id": "05dbd75c-172e-42d6-a9c0-46ea41466e01",
   "metadata": {},
   "source": [
    "### Collision Detection"
   ]
  },
  {
   "cell_type": "code",
   "execution_count": 31,
   "id": "32c81dbf-0f01-4455-8a1d-f79dd55c67d0",
   "metadata": {},
   "outputs": [],
   "source": [
    "bullet_client.setRealTimeSimulation(True)"
   ]
  },
  {
   "cell_type": "code",
   "execution_count": 32,
   "id": "cb3e834f-1a33-4ca8-a226-5ce922313a71",
   "metadata": {},
   "outputs": [],
   "source": [
    "bullet_client.resetBasePositionAndOrientation(greenboxID, [0, 0, 0.1], [0, 0, 0, 1])"
   ]
  },
  {
   "cell_type": "code",
   "execution_count": 33,
   "id": "d5a8b581-91b2-45df-9933-3953cc5ffed8",
   "metadata": {},
   "outputs": [],
   "source": [
    "bullet_client.removeBody(blueboxID)"
   ]
  },
  {
   "cell_type": "code",
   "execution_count": 35,
   "id": "b2692800-e579-4d6b-8dbb-a314c50e7a5e",
   "metadata": {},
   "outputs": [
    {
     "name": "stdout",
     "output_type": "stream",
     "text": [
      "Number of contact points: 4\n"
     ]
    }
   ],
   "source": [
    "conpts = bullet_client.getContactPoints(greenboxID, redboxID)\n",
    "print(\"Number of contact points:\", len(conpts))"
   ]
  },
  {
   "cell_type": "code",
   "execution_count": 36,
   "id": "97f6d6e4-1142-413c-bb7e-01cd5812e67b",
   "metadata": {},
   "outputs": [
    {
     "name": "stdout",
     "output_type": "stream",
     "text": [
      "(0, 2, 1, -1, -1, (0.05403944174479369, 0.1, 0.0), (0.05403944174479367, 0.09996994526394092, 0.0), (-0.0, -1.0, -0.0), -3.005473605909026e-05, 0.002874484958493922, 1.717898333654484e-08, (-1.0, 0.0, 0.0), 0.00014372424689801665, (-0.0, -0.0, 1.0))\n"
     ]
    }
   ],
   "source": [
    "first_conpt = conpts[0]\n",
    "print(first_conpt)"
   ]
  },
  {
   "cell_type": "code",
   "execution_count": 37,
   "id": "86e74f37-12cf-4c4e-9b1f-cc19853fe486",
   "metadata": {},
   "outputs": [
    {
     "name": "stdout",
     "output_type": "stream",
     "text": [
      "position on the green box: (0.05403944174479369, 0.1, 0.0)\n",
      "position on the red box: (0.05403944174479367, 0.09996994526394092, 0.0)\n",
      "contact distance: -3.005473605909026e-05\n",
      "normal force: 0.002874484958493922\n"
     ]
    }
   ],
   "source": [
    "print(\"position on the green box:\", first_conpt[5])\n",
    "print(\"position on the red box:\", first_conpt[6])\n",
    "print(\"contact distance:\", first_conpt[8])\n",
    "print(\"normal force:\", first_conpt[9])"
   ]
  },
  {
   "cell_type": "markdown",
   "id": "41b618aa-cb09-4413-84c7-1bbb0731e37f",
   "metadata": {},
   "source": [
    "## Panda Example"
   ]
  },
  {
   "cell_type": "code",
   "execution_count": 38,
   "id": "6f6963d5-d254-4344-88c8-bc45ea0dcf86",
   "metadata": {},
   "outputs": [],
   "source": [
    "bullet_client.removeBody(greenboxID)\n",
    "bullet_client.removeBody(redboxID)"
   ]
  },
  {
   "cell_type": "code",
   "execution_count": 39,
   "id": "46558a5a-7369-4e4e-90e5-8c4cfdd91989",
   "metadata": {},
   "outputs": [
    {
     "name": "stdout",
     "output_type": "stream",
     "text": [
      "The body ID of the Panda robot: 1\n"
     ]
    }
   ],
   "source": [
    "pandaID = bullet_client.loadURDF(\"franka_panda/panda.urdf\", \n",
    "                                 [0, 0, 0], \n",
    "                                 [0, 0, 0, 1], \n",
    "                                 useFixedBase=True)\n",
    "\n",
    "print(\"The body ID of the Panda robot:\", pandaID)"
   ]
  },
  {
   "cell_type": "markdown",
   "id": "713ba23d-5d9b-4044-af68-b5b779b90761",
   "metadata": {},
   "source": [
    "### Get joint info / state"
   ]
  },
  {
   "cell_type": "code",
   "execution_count": 40,
   "id": "c40aab31-55cf-4d70-9bd6-44f6f4bfef4c",
   "metadata": {},
   "outputs": [
    {
     "name": "stdout",
     "output_type": "stream",
     "text": [
      "Number of joints of Panda: 12\n"
     ]
    }
   ],
   "source": [
    "print(\"Number of joints of Panda:\", bullet_client.getNumJoints(pandaID))"
   ]
  },
  {
   "cell_type": "code",
   "execution_count": 47,
   "id": "48a0c537-e819-4191-92a6-b21ce95ecd15",
   "metadata": {},
   "outputs": [
    {
     "name": "stdout",
     "output_type": "stream",
     "text": [
      "jointName: b'panda_finger_joint2'\n",
      "jointType: 1\n",
      "linkName: b'panda_rightfinger'\n",
      "jointLowerLimit: 0.0\n",
      "jointUpperLimit: 0.04\n"
     ]
    }
   ],
   "source": [
    "jnt_info = bullet_client.getJointInfo(bodyUniqueId=pandaID,\n",
    "                                      jointIndex=10)\n",
    "\n",
    "print(\"jointName:\", jnt_info[1])\n",
    "print(\"jointType:\", jnt_info[2])\n",
    "print(\"linkName:\", jnt_info[12])\n",
    "print(\"jointLowerLimit:\", jnt_info[8])\n",
    "print(\"jointUpperLimit:\", jnt_info[9])"
   ]
  },
  {
   "cell_type": "code",
   "execution_count": 49,
   "id": "ebdde5c4-eac8-4437-8004-481ee13f68d0",
   "metadata": {},
   "outputs": [
    {
     "name": "stdout",
     "output_type": "stream",
     "text": [
      "jointPosition: -0.8448237532674937\n",
      "jointVelocity: -9.371899239823955e-05\n",
      "jointReactionForces: (0.0, 0.0, 0.0, 0.0, 0.0, 0.0)\n",
      "appliedJointMotorTorque: 0.024729912831059804\n"
     ]
    }
   ],
   "source": [
    "jnt_state = bullet_client.getJointState(bodyUniqueId=pandaID, \n",
    "                                        jointIndex=4)\n",
    "\n",
    "print(\"jointPosition:\", jnt_state[0])\n",
    "print(\"jointVelocity:\", jnt_state[1])\n",
    "print(\"jointReactionForces:\", jnt_state[2])\n",
    "print(\"appliedJointMotorTorque:\", jnt_state[3])"
   ]
  },
  {
   "cell_type": "markdown",
   "id": "4be2190b-f038-4462-ad4c-494b42b32fe8",
   "metadata": {},
   "source": [
    "### Set joint angle (and velocity)"
   ]
  },
  {
   "cell_type": "code",
   "execution_count": 50,
   "id": "3e360b4d-c56c-436b-95fe-062a43519e70",
   "metadata": {},
   "outputs": [],
   "source": [
    "target_angles = [0.0, -0.7853981633974483, 0.0, -2.356194490192345,\n",
    "                 0.0, 1.5707963267948966, 0.7853981633974483]\n",
    "\n",
    "for i in range(7):\n",
    "    bullet_client.resetJointState(pandaID, i, target_angles[i])"
   ]
  },
  {
   "cell_type": "markdown",
   "id": "40f2cf70-f3cd-4a7e-a28e-297f6b3f7954",
   "metadata": {},
   "source": [
    "### End-effector state and Jacobian"
   ]
  },
  {
   "cell_type": "code",
   "execution_count": 52,
   "id": "9a98df72-180e-4f0e-877d-7a0811c44a2a",
   "metadata": {},
   "outputs": [
    {
     "name": "stdout",
     "output_type": "stream",
     "text": [
      "Position of the end-effector: (0.276626855134964, -0.011761602014303207, 0.46511733531951904)\n",
      "Orientation of the end-effector: (0.9952887892723083, -0.011828192509710789, -0.09250179678201675, 0.02652869187295437)\n"
     ]
    }
   ],
   "source": [
    "ee_state = bullet_client.getLinkState(pandaID, linkIndex=11)\n",
    "\n",
    "print(\"Position of the end-effector:\", ee_state[4])\n",
    "print(\"Orientation of the end-effector:\", ee_state[5])"
   ]
  },
  {
   "cell_type": "code",
   "execution_count": 59,
   "id": "232cb3d6-1194-460f-9b32-241f6f57bbe9",
   "metadata": {},
   "outputs": [
    {
     "name": "stdout",
     "output_type": "stream",
     "text": [
      "Size of J: (6, 7)\n",
      "Jacobian matrix: [[ 2.94568637e-02  1.17147083e-01  2.33699613e-02  1.74915523e-01\n",
      "   1.65058918e-03  2.29433703e-01  0.00000000e+00]\n",
      " [ 2.36314239e-01 -1.83136649e-03  2.54969441e-01 -2.82957705e-03\n",
      "   2.27836270e-01 -2.39376118e-03 -0.00000000e+00]\n",
      " [-6.93889390e-18 -2.36745812e-01  1.69675808e-02  3.82824249e-01\n",
      "  -2.55845938e-02 -6.51504704e-03  0.00000000e+00]\n",
      " [-1.11022302e-16  1.56311425e-02 -6.58614160e-01 -1.58175642e-02\n",
      "   9.96981711e-01 -7.19919261e-03 -4.10327258e-01]\n",
      " [-1.38777878e-17  9.99877826e-01  1.02961497e-02 -9.99874881e-01\n",
      "  -1.57593858e-02 -9.93728311e-01 -9.88291955e-02]\n",
      " [ 1.00000000e+00  4.89661089e-12  7.52410379e-01 -1.63222448e-04\n",
      "  -7.60204547e-02  1.11589499e-01 -9.06567334e-01]]\n"
     ]
    }
   ],
   "source": [
    "import numpy as np\n",
    "\n",
    "jstates = bullet_client.getJointStates(pandaID, \n",
    "                                       range(bullet_client.getNumJoints(pandaID)))\n",
    "jinfos = [bullet_client.getJointInfo(pandaID, i) \\\n",
    "          for i in range(bullet_client.getNumJoints(pandaID))]\n",
    "jstates = [j for j, i in zip(jstates, jinfos) if i[3] > -1]\n",
    "mjpos = [state[0] for state in jstates]\n",
    "Jt, Jr = bullet_client.calculateJacobian(pandaID, 11, \n",
    "                                         localPosition=[0.0, 0.0, 0.0], \n",
    "                                         objPositions=mjpos,\n",
    "                                         objVelocities=[0.0]*len(mjpos),\n",
    "                                         objAccelerations=[0.0]*len(mjpos))\n",
    "Jt, Jr = np.array(Jt)[:, 0:7], np.array(Jr)[:, 0:7]\n",
    "J = np.vstack((Jt, Jr))\n",
    "\n",
    "print(\"Size of J:\", J.shape)\n",
    "print(\"Jacobian matrix:\", J)"
   ]
  },
  {
   "cell_type": "markdown",
   "id": "4860ff29-bc1d-4ca7-bc21-a73a1dc54dc1",
   "metadata": {},
   "source": [
    "### Joint-space control"
   ]
  },
  {
   "cell_type": "code",
   "execution_count": 63,
   "id": "29f0baef-05b4-4b14-8359-231cb02b58ca",
   "metadata": {},
   "outputs": [],
   "source": [
    "bullet_client.setJointMotorControlArray(bodyUniqueId=pandaID,\n",
    "                                        jointIndices=range(7),\n",
    "                                        controlMode=p.VELOCITY_CONTROL,\n",
    "                                        targetVelocities=[0.1]*7)"
   ]
  },
  {
   "cell_type": "code",
   "execution_count": 64,
   "id": "1c2e321c-9a03-4f2e-9808-3c5aa630c5aa",
   "metadata": {},
   "outputs": [],
   "source": [
    "bullet_client.setJointMotorControlArray(bodyUniqueId=pandaID,\n",
    "                                        jointIndices=range(7),\n",
    "                                        controlMode=p.POSITION_CONTROL,\n",
    "                                        targetVelocities=[0]*7)"
   ]
  },
  {
   "cell_type": "code",
   "execution_count": 65,
   "id": "436e759e-ac89-4a70-bb79-3658463a8b0f",
   "metadata": {},
   "outputs": [],
   "source": [
    "bullet_client.disconnect()"
   ]
  },
  {
   "cell_type": "code",
   "execution_count": null,
   "id": "3e18af1a-430d-4d96-9e0d-27fa328aef8d",
   "metadata": {},
   "outputs": [],
   "source": []
  }
 ],
 "metadata": {
  "kernelspec": {
   "display_name": "Python 3 (ipykernel)",
   "language": "python",
   "name": "python3"
  },
  "language_info": {
   "codemirror_mode": {
    "name": "ipython",
    "version": 3
   },
   "file_extension": ".py",
   "mimetype": "text/x-python",
   "name": "python",
   "nbconvert_exporter": "python",
   "pygments_lexer": "ipython3",
   "version": "3.9.18"
  }
 },
 "nbformat": 4,
 "nbformat_minor": 5
}
